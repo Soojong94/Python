{
 "cells": [
  {
   "cell_type": "markdown",
   "metadata": {},
   "source": [
    "### 함수\n",
    "- 호출될 때 특정 기능을 실행하는 재사용 가능한 코드 블록\n",
    "- 지정된 코드에 이름을 붙여 관리하는 방법\n",
    "- 코드의 간결함을 높여주고, 재사용성을 높여준다\n",
    "- python은 OOP도 지원하기 때문에 메소드 개념도 동시에 존재한다\n",
    "\n",
    "- 1. 내장 함수 2. 사용자정의 함수\n",
    "```python\n",
    "def 함수명 (매개변수) :\n",
    "    실행문장\n",
    "    return 반환변수\n",
    "```\n",
    "- 함수호출 :  함수명(인수)\n",
    "\n"
   ]
  },
  {
   "cell_type": "code",
   "execution_count": 4,
   "metadata": {},
   "outputs": [],
   "source": [
    "# 함수 정의\n",
    "def number_sum(n1, n2) :\n",
    "    result = n1 + n2\n",
    "    return result"
   ]
  },
  {
   "cell_type": "code",
   "execution_count": 5,
   "metadata": {},
   "outputs": [
    {
     "data": {
      "text/plain": [
       "12"
      ]
     },
     "execution_count": 5,
     "metadata": {},
     "output_type": "execute_result"
    }
   ],
   "source": [
    "# 함수 호출\n",
    "rs = number_sum(2,10)\n",
    "rs"
   ]
  },
  {
   "cell_type": "markdown",
   "metadata": {},
   "source": [
    "#### 1번문제"
   ]
  },
  {
   "cell_type": "code",
   "execution_count": 9,
   "metadata": {},
   "outputs": [
    {
     "data": {
      "text/plain": [
       "2"
      ]
     },
     "execution_count": 9,
     "metadata": {},
     "output_type": "execute_result"
    }
   ],
   "source": [
    "# 두수를 입력 받아서 뺀 결과를 return 하는 함수를 정의하시오\n",
    "\n",
    "num1 = int(input(\"첫번째 정수 입력 >> \"))\n",
    "num2 = int(input(\"첫번째 정수 입력 >> \"))\n",
    "def number_sub(n1, n2) :\n",
    "    result = num1 - num2\n",
    "    return result\n",
    "rs2 = number_sub(num1,num2)\n",
    "rs2"
   ]
  },
  {
   "cell_type": "markdown",
   "metadata": {},
   "source": [
    "#### 2번문제"
   ]
  },
  {
   "cell_type": "code",
   "execution_count": 24,
   "metadata": {},
   "outputs": [
    {
     "name": "stdout",
     "output_type": "stream",
     "text": [
      "1 2 4 5 10 20 25 50 100 "
     ]
    }
   ],
   "source": [
    "# 숫자 1개 입력 받아 약수 출력\n",
    "\n",
    "num3 = int(input(\"숫자 입력 >>> \"))\n",
    "def divisor(n1) :\n",
    "    for i in range(1,num3+1,1) :\n",
    "        if num3 % i == 0 :\n",
    "            print(i, end=\" \")\n",
    "\n",
    "rs3 = divisor(num3)\n",
    "rs3"
   ]
  },
  {
   "cell_type": "markdown",
   "metadata": {},
   "source": [
    "#### 3. 파이썬함수 특징"
   ]
  },
  {
   "cell_type": "code",
   "execution_count": 32,
   "metadata": {},
   "outputs": [
    {
     "name": "stdout",
     "output_type": "stream",
     "text": [
      "1\n",
      "10\n"
     ]
    }
   ],
   "source": [
    "# 함수에서 선언된 변수는 지역변수\n",
    "a = 10 # 전역변수 선언\n",
    "def test() :\n",
    "    a = 1 # 지역변수로 인식\n",
    "    print(a)\n",
    "test()\n",
    "print(a)"
   ]
  },
  {
   "cell_type": "code",
   "execution_count": 34,
   "metadata": {},
   "outputs": [
    {
     "name": "stdout",
     "output_type": "stream",
     "text": [
      "1\n"
     ]
    }
   ],
   "source": [
    "# global 키워드를 이용해 전역변수로 인식시키자\n",
    "\n",
    "a = 10 # 전역변수 선언\n",
    "\n",
    "def test() :\n",
    "    global a\n",
    "    a = 1 # 전역변수로 인식\n",
    "    \n",
    "test()\n",
    "print(a)"
   ]
  },
  {
   "cell_type": "markdown",
   "metadata": {},
   "source": [
    "### 2. 매개변수에 기본값 설정\n",
    "- 매개변수에 기본값을 설정하여 호출시 인자를 생략할 수 있다"
   ]
  },
  {
   "cell_type": "code",
   "execution_count": 38,
   "metadata": {},
   "outputs": [],
   "source": [
    "def hello(name, age=10) :\n",
    "    print(f\"{name} , {age}님 안녕하세요\")"
   ]
  },
  {
   "cell_type": "code",
   "execution_count": 40,
   "metadata": {},
   "outputs": [
    {
     "name": "stdout",
     "output_type": "stream",
     "text": [
      "홍길동 , 50님 안녕하세요\n"
     ]
    }
   ],
   "source": [
    "hello('홍길동' , 50 )"
   ]
  },
  {
   "cell_type": "code",
   "execution_count": 42,
   "metadata": {},
   "outputs": [
    {
     "name": "stdout",
     "output_type": "stream",
     "text": [
      "홍길동 , 10님 안녕하세요\n"
     ]
    }
   ],
   "source": [
    "hello('홍길동')"
   ]
  },
  {
   "cell_type": "markdown",
   "metadata": {},
   "source": [
    "#### 3. 리턴값을 여러 개 줄 수 있다\n",
    "- return 할 때 여러 값을 튜플로 묶어서 반환\n",
    "- 호출시에 여러 변수를 만들어서 받을 수 있음"
   ]
  },
  {
   "cell_type": "code",
   "execution_count": 43,
   "metadata": {},
   "outputs": [],
   "source": [
    "def getData() :\n",
    "    return 'A' , 10"
   ]
  },
  {
   "cell_type": "code",
   "execution_count": 46,
   "metadata": {},
   "outputs": [
    {
     "name": "stdout",
     "output_type": "stream",
     "text": [
      "A 10\n"
     ]
    }
   ],
   "source": [
    "# 리턴값을 따로 출력할 수 있다\n",
    "a,b = getData()\n",
    "print(a,b)"
   ]
  },
  {
   "cell_type": "code",
   "execution_count": 47,
   "metadata": {},
   "outputs": [
    {
     "data": {
      "text/plain": [
       "('A', 10)"
      ]
     },
     "execution_count": 47,
     "metadata": {},
     "output_type": "execute_result"
    }
   ],
   "source": [
    "getData()"
   ]
  },
  {
   "cell_type": "markdown",
   "metadata": {},
   "source": [
    "#### 4. docstring\n",
    "- 함수에 대한 부가 설명을 작성하는 기능"
   ]
  },
  {
   "cell_type": "code",
   "execution_count": 51,
   "metadata": {},
   "outputs": [],
   "source": [
    "def cal(num1, num2, op) :\n",
    "    \"\"\" \n",
    "    덧셈과 뺄셈을 계산하는 함수 \n",
    "    op : 연산자를 의미, 주로 '+' 기호를 입력\n",
    "    \"\"\"\n",
    "    if op == '+' :\n",
    "        return num1 + num2 \n",
    "    else :\n",
    "        return num1 - num2"
   ]
  },
  {
   "cell_type": "code",
   "execution_count": 50,
   "metadata": {},
   "outputs": [
    {
     "data": {
      "text/plain": [
       "15"
      ]
     },
     "execution_count": 50,
     "metadata": {},
     "output_type": "execute_result"
    }
   ],
   "source": [
    "cal(10,5,'+')"
   ]
  },
  {
   "cell_type": "code",
   "execution_count": null,
   "metadata": {},
   "outputs": [],
   "source": []
  },
  {
   "cell_type": "code",
   "execution_count": null,
   "metadata": {},
   "outputs": [],
   "source": []
  },
  {
   "cell_type": "code",
   "execution_count": null,
   "metadata": {},
   "outputs": [],
   "source": []
  },
  {
   "cell_type": "code",
   "execution_count": null,
   "metadata": {},
   "outputs": [],
   "source": []
  },
  {
   "cell_type": "code",
   "execution_count": null,
   "metadata": {},
   "outputs": [],
   "source": []
  }
 ],
 "metadata": {
  "kernelspec": {
   "display_name": "Python 3 (ipykernel)",
   "language": "python",
   "name": "python3"
  },
  "language_info": {
   "codemirror_mode": {
    "name": "ipython",
    "version": 3
   },
   "file_extension": ".py",
   "mimetype": "text/x-python",
   "name": "python",
   "nbconvert_exporter": "python",
   "pygments_lexer": "ipython3",
   "version": "3.11.5"
  }
 },
 "nbformat": 4,
 "nbformat_minor": 2
}
