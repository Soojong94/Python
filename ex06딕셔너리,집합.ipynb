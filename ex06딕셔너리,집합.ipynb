{
 "cells": [
  {
   "cell_type": "markdown",
   "metadata": {},
   "source": [
    "### 딕셔너리\n",
    "- 데이터를 쌍으로 저장하는 자료구조\n",
    "- key와 value 로 묶어서 저장한다\n",
    "- key 값으로 데이터를 탐색하기 때문에 데이터 접근 속도가 빠르다\n",
    "- 단, 순서가 존재하지 않는다는 특징이 있다"
   ]
  },
  {
   "cell_type": "markdown",
   "metadata": {},
   "source": [
    "# 활용실습"
   ]
  },
  {
   "cell_type": "markdown",
   "metadata": {},
   "source": [
    "#### score_dict 로부터 아래 문제를 해결하는 프로그램을 완성하시오"
   ]
  },
  {
   "cell_type": "code",
   "execution_count": null,
   "metadata": {},
   "outputs": [
    {
     "data": {
      "text/plain": [
       "{'이름': ['손지영', '김은영', '김운비', '채수민', '최성우'],\n",
       " 'python': [90, 100, 85, 90, 80],\n",
       " 'Java': [85, 80, 100, 95, 85],\n",
       " 'html/css': [75, 70, 90, 80, 90]}"
      ]
     },
     "metadata": {},
     "output_type": "display_data"
    }
   ],
   "source": [
    "score_dict = {'이름' : ['손지영', '김은영' , '김운비', '채수민', '최성우'], 'python' : [90,100,85,90,80] , 'java' : [85,80,100,95,85] , 'html/css' : [75,70,90,80,90]}\n",
    "score_dict"
   ]
  },
  {
   "cell_type": "code",
   "execution_count": null,
   "metadata": {},
   "outputs": [
    {
     "name": "stdout",
     "output_type": "stream",
     "text": [
      "3\n",
      "채수민 의 전과목 성적 평균 88.33\n"
     ]
    }
   ],
   "source": [
    "# 이름에 해당하는 과목 데이터에 접근하여 전 과목의 성적 평균 구하기\n",
    "# (소수점 둘째 자리 까지)\n",
    "# 입력한 이름 정보를 찾을 수 없다면 검색 결과가 없습니다 출력\n",
    "\n",
    "\n",
    "input_name = input(\"이름을 정확하게 기입하세요 >>> \")\n",
    "if input_name in score_dict['이름'] :\n",
    "    i = score_dict['이름'].index(input_name)\n",
    "    print(i)\n",
    "    avg = (score_dict['python'][i] + score_dict['Java'][i]  + score_dict['html/css'][i]) / 3.0 \n",
    "    print(f\"{input_name} 의 전과목 성적 평균 {round(avg,2)}\")\n",
    "else : \n",
    "    print(\"검색 결과가 없습니다\") \n"
   ]
  },
  {
   "cell_type": "code",
   "execution_count": null,
   "metadata": {},
   "outputs": [
    {
     "name": "stdout",
     "output_type": "stream",
     "text": [
      "손지영 의 전과목 성적 평균 83.33\n"
     ]
    }
   ],
   "source": [
    "# 이름에 해당하는 과목 데이터에 접근하여 전 과목의 성적 평균 구하기\n",
    "# (소수점 둘째 자리 까지)\n",
    "# 입력한 이름 정보를 찾을 수 없다면 검색 결과가 없습니다 출력\n",
    "\n",
    "input_name = input(\"이름을 정확하게 기입하세요 >>> \")\n",
    "\n",
    "if input_name in score_dict['이름']:\n",
    "     for i, name in enumerate(score_dict['이름']):\n",
    "        if  input_name == name :\n",
    "            name_index = i\n",
    "            avg = (score_dict['python'][i] + score_dict['java'][i]  + score_dict['html/css'][i]) / 3.0 \n",
    "\n",
    "     print(f\"{input_name} 의 전과목 성적 평균 {round(avg,2)}\")"
   ]
  },
  {
   "cell_type": "markdown",
   "metadata": {},
   "source": [
    "### 집합\n",
    "- 집합연산을 할 수 있는 데이터 타입\n",
    "- 합집합, 차집합, 교집합 연산이 가능\n",
    "- 순서가 없다\n",
    "- 중복을 허용하지 않는다"
   ]
  },
  {
   "cell_type": "code",
   "execution_count": null,
   "metadata": {},
   "outputs": [
    {
     "data": {
      "text/plain": [
       "set()"
      ]
     },
     "metadata": {},
     "output_type": "display_data"
    }
   ],
   "source": [
    "# 1.  집합의 생성 (선언)\n",
    "my_set = set()\n",
    "my_set"
   ]
  },
  {
   "cell_type": "code",
   "execution_count": null,
   "metadata": {},
   "outputs": [
    {
     "data": {
      "text/plain": [
       "{1, 2, 3, 4, 5}"
      ]
     },
     "metadata": {},
     "output_type": "display_data"
    }
   ],
   "source": [
    "my_set2=set([1,2,3,4,5])\n",
    "my_set2"
   ]
  },
  {
   "cell_type": "code",
   "execution_count": null,
   "metadata": {},
   "outputs": [
    {
     "data": {
      "text/plain": [
       "{'a', 'e', 'l', 'p'}"
      ]
     },
     "metadata": {},
     "output_type": "display_data"
    }
   ],
   "source": [
    "my_set3 = set(\"apple\")\n",
    "my_set3"
   ]
  },
  {
   "cell_type": "code",
   "execution_count": null,
   "metadata": {},
   "outputs": [
    {
     "data": {
      "text/plain": [
       "{3, 4, 7, 8, 9}"
      ]
     },
     "metadata": {},
     "output_type": "display_data"
    }
   ],
   "source": [
    "my_set4 = set([3,4,7,8,9])\n",
    "my_set4"
   ]
  },
  {
   "cell_type": "code",
   "execution_count": null,
   "metadata": {},
   "outputs": [
    {
     "data": {
      "text/plain": [
       "{1, 2, 3, 4, 5, 7, 8, 9}"
      ]
     },
     "metadata": {},
     "output_type": "display_data"
    }
   ],
   "source": [
    "# 2. 합집합\n",
    "my_set2 | my_set4"
   ]
  },
  {
   "cell_type": "code",
   "execution_count": null,
   "metadata": {},
   "outputs": [
    {
     "data": {
      "text/plain": [
       "{3, 4}"
      ]
     },
     "metadata": {},
     "output_type": "display_data"
    }
   ],
   "source": [
    "# 3. 교집합\n",
    "my_set2 & my_set4"
   ]
  },
  {
   "cell_type": "code",
   "execution_count": null,
   "metadata": {},
   "outputs": [
    {
     "data": {
      "text/plain": [
       "{1, 2, 5}"
      ]
     },
     "metadata": {},
     "output_type": "display_data"
    }
   ],
   "source": [
    "# 4. 차집합 \n",
    "my_set2 - my_set4 # 2번 집합만 고유하게 가진 내용 출력"
   ]
  },
  {
   "cell_type": "code",
   "execution_count": null,
   "metadata": {},
   "outputs": [
    {
     "data": {
      "text/plain": [
       "{7, 8, 9}"
      ]
     },
     "metadata": {},
     "output_type": "display_data"
    }
   ],
   "source": [
    "my_set4-my_set2 # 4번집합만 고유하게 가진 내용 출력"
   ]
  }
 ],
 "metadata": {
  "language_info": {
   "name": "python"
  }
 },
 "nbformat": 4,
 "nbformat_minor": 2
}
