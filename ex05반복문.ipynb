{
 "cells": [
  {
   "cell_type": "markdown",
   "metadata": {},
   "source": [
    "### 반복문(while문, for문)\n",
    "- 프로그램 내에서 똑같은 명령을 일정 횟수만큼 반복하여 수행하도록 제어하는 명령문"
   ]
  },
  {
   "cell_type": "markdown",
   "metadata": {},
   "source": [
    "#### 1. while 문\n",
    "- 반복 횟수가 명확하지 않을 때\n",
    "```python\n",
    "\n",
    "while 조건식 :\n",
    "    코드블록\n",
    "    코드블록\n",
    "```"
   ]
  },
  {
   "cell_type": "code",
   "execution_count": 3,
   "metadata": {},
   "outputs": [
    {
     "name": "stdout",
     "output_type": "stream",
     "text": [
      "파이썬 최고!!\n",
      "파이썬 최고!!\n",
      "파이썬 최고!!\n",
      "파이썬 최고!!\n",
      "파이썬 최고!!\n",
      "파이썬 최고!!\n",
      "파이썬 최고!!\n",
      "파이썬 최고!!\n",
      "파이썬 최고!!\n",
      "파이썬 최고!!\n",
      "파이썬 최고!!\n",
      "파이썬 최고!!\n",
      "파이썬 최고!!\n"
     ]
    }
   ],
   "source": [
    "# while 문을 활용해서 \"파이썬 최고!!\" 를 13번 출력\n",
    "i = 1\n",
    "while i <=13 :\n",
    "    print(\"파이썬 최고!!\")\n",
    "    i += 1"
   ]
  },
  {
   "cell_type": "code",
   "execution_count": 1,
   "metadata": {},
   "outputs": [
    {
     "name": "stdout",
     "output_type": "stream",
     "text": [
      "1\n",
      "2\n",
      "3\n"
     ]
    }
   ],
   "source": [
    "number=1\n",
    "while number <=3 :\n",
    "    print(number)\n",
    "    number += 1"
   ]
  },
  {
   "cell_type": "code",
   "execution_count": 4,
   "metadata": {},
   "outputs": [
    {
     "name": "stdout",
     "output_type": "stream",
     "text": [
      "무한루프!\n"
     ]
    }
   ],
   "source": [
    "# break - 반복문을 나가는 기능!\n",
    "while True :\n",
    "    print(\"무한루프!\")\n",
    "    break"
   ]
  },
  {
   "cell_type": "code",
   "execution_count": 34,
   "metadata": {},
   "outputs": [
    {
     "name": "stdout",
     "output_type": "stream",
     "text": [
      "파이썬 최고!!\t\n",
      "파이썬 최고!!\t\n",
      "파이썬 최고!!\t\n",
      "파이썬 최고!!\t\n",
      "파이썬 최고!!\t\n",
      "파이썬 최고!!\t\n",
      "파이썬 최고!!\t\n",
      "파이썬 최고!!\t\n",
      "파이썬 최고!!\t\n",
      "파이썬 최고!!\t\n"
     ]
    }
   ],
   "source": [
    "i = 1\n",
    "while True :\n",
    "    print(\"파이썬 최고!!\" , end=\"\\t\") \n",
    "    print()\n",
    "    i += 1\n",
    "    if i > 10 :\n",
    "        break"
   ]
  },
  {
   "cell_type": "code",
   "execution_count": null,
   "metadata": {},
   "outputs": [
    {
     "name": "stdout",
     "output_type": "stream",
     "text": [
      "첫 번째 정수 입력>> 5\n",
      "두 번째 정수 입력>> 5\n",
      "두 정수의 합 : 10\n",
      "첫 번째 정수 입력>> 6\n",
      "두 번째 정수 입력>> 7\n",
      "두 정수의 합 : 13\n"
     ]
    }
   ],
   "source": [
    "# 두개의 정수를 입력 받아서 더하는 코드를 작성\n",
    "# 단 0,과 0을 입력했을 때 프로그램 종료 출력\n",
    "\n",
    "\n",
    "while True :\n",
    "    num1 = int(input (\"첫 번째 정수 입력>> \"))\n",
    "    num2 = int(input (\"두 번째 정수 입력>> \"))\n",
    "    if num1 == 0 and num2 ==0 :\n",
    "        print(\"프로그램 종료\")\n",
    "        break\n",
    "    else :\n",
    "        print(f\"두 정수의 합 : {num1+num2}\")"
   ]
  },
  {
   "cell_type": "code",
   "execution_count": 20,
   "metadata": {},
   "outputs": [
    {
     "name": "stdout",
     "output_type": "stream",
     "text": [
      "현재 몸무게 >> 60\n",
      "목표 몸무게 >> 50\n",
      "1주차 감량 몸무게 >> 2\n",
      "2주차 감량 몸무게 >> 3\n",
      "3주차 감량 몸무게 >> 4\n",
      "4주차 감량 몸무게 >> 3\n",
      "48kg 달성!! 축하합니다!\n"
     ]
    }
   ],
   "source": [
    "# 현재 몸무게와 목표 몸무게 입력 받기 / 주차별 몸무게 입력 받기\n",
    "# 성공시에 축하합니다 출력 / 입력 멈춤\n",
    "\n",
    "num3 = int(input (\"현재 몸무게 >> \"))\n",
    "num4 = int(input (\"목표 몸무게 >> \"))\n",
    "cnt = 1\n",
    "while num3 > num4 :\n",
    "    \n",
    "    num5 = int (input (str(cnt)+\"주차 감량 몸무게 >> \"))\n",
    "    cnt += 1\n",
    "    num3 = num3 - num5 \n",
    "\n",
    "# (f포매팅) \n",
    "print(f\"{num3}kg 달성!! 축하합니다!\")"
   ]
  },
  {
   "cell_type": "code",
   "execution_count": 3,
   "metadata": {},
   "outputs": [
    {
     "name": "stdout",
     "output_type": "stream",
     "text": [
      "저는coffee를좋아합니다.하루5잔마셔요.\n"
     ]
    }
   ],
   "source": [
    "# 참고용\n",
    "\n",
    "# 문자열 맨 앞에 f를 붙이고, 출력할 변수, 값을 중괄호 안에 넣습니다.\n",
    "s='coffee'\n",
    "n=5\n",
    "result1=f'저는 {s}를좋아합니다.하루 {n}잔마셔요.'\n",
    "print(result1)\n"
   ]
  },
  {
   "cell_type": "markdown",
   "metadata": {},
   "source": [
    "### for문\n",
    "- 반복 횟수가 명확할 때 활용\n",
    "    1. 인덱스를 지정해서 반복하는 방법\n",
    "    2. foreach 스타일로 리스트, 튜플 등 아이템의 갯수에 따라 반복하는 방법"
   ]
  },
  {
   "cell_type": "code",
   "execution_count": 9,
   "metadata": {},
   "outputs": [
    {
     "name": "stdout",
     "output_type": "stream",
     "text": [
      "1 2 3 4 5 6 7 8 9 "
     ]
    }
   ],
   "source": [
    "# 1.인덱스 지정하는 방법\n",
    "# ragne 함수 사용\n",
    "# range (시작값, 끝값, 증가값)\n",
    "for i in range(1,10,1) :\n",
    "    print(i, end=' ')"
   ]
  },
  {
   "cell_type": "code",
   "execution_count": 8,
   "metadata": {},
   "outputs": [
    {
     "name": "stdout",
     "output_type": "stream",
     "text": [
      "10 9 8 7 6 5 4 3 2 "
     ]
    }
   ],
   "source": [
    "for i in range(10,1,-1) :\n",
    "    print(i, end=' ')"
   ]
  },
  {
   "cell_type": "code",
   "execution_count": 12,
   "metadata": {},
   "outputs": [
    {
     "name": "stdout",
     "output_type": "stream",
     "text": [
      "apple banana orange "
     ]
    }
   ],
   "source": [
    "# 2. for each 스타일 반복문\n",
    "# 주로 아이템이 들어있는 리스트, 튜플, 딕셔너리 등을 반복하고 싶을 때 사용\n",
    "word_list = [\"apple\" ,\"banana\" , \"orange\"]\n",
    "for w in word_list : # 순차적으로 리스트의 아이템을 꺼냄\n",
    "    print(w , end = ' ')"
   ]
  },
  {
   "cell_type": "code",
   "execution_count": 18,
   "metadata": {},
   "outputs": [
    {
     "name": "stdout",
     "output_type": "stream",
     "text": [
      "a p p l e "
     ]
    }
   ],
   "source": [
    "# 문자열 타입은 각 글자마다 인덱스가 부여되기 때문에 반복문에서 활용가능\n",
    "for c in \"apple\" :\n",
    "    print(c , end =' ') "
   ]
  },
  {
   "cell_type": "code",
   "execution_count": 20,
   "metadata": {},
   "outputs": [
    {
     "name": "stdout",
     "output_type": "stream",
     "text": [
      "('hhd', 90)\n",
      "('pbk', 88)\n",
      "('jh', 50)\n"
     ]
    }
   ],
   "source": [
    "# 아이템이 2개씩 묶인 튜플 반복하기\n",
    "student_score = (('hhd', 90) ,('pbk' , 88), ('jh' , 50))\n",
    "for student in student_score :\n",
    "    print(student)"
   ]
  },
  {
   "cell_type": "code",
   "execution_count": 23,
   "metadata": {},
   "outputs": [
    {
     "name": "stdout",
     "output_type": "stream",
     "text": [
      "name :  hhd\n",
      "score :  90\n",
      "name :  pbk\n",
      "score :  88\n",
      "name :  jh\n",
      "score :  50\n"
     ]
    }
   ],
   "source": [
    "# 반복되는 아이템을 쪼개서 각각 변수에 넣을 수 있다\n",
    "for name,score in student_score :\n",
    "    print(\"name : \" , name)\n",
    "    print(\"score : \" , score) "
   ]
  },
  {
   "cell_type": "code",
   "execution_count": 36,
   "metadata": {},
   "outputs": [
    {
     "name": "stdout",
     "output_type": "stream",
     "text": [
      "1 번째 A\n",
      "2 번째 B\n",
      "3 번째 C\n",
      "4 번째 D\n",
      "5 번째 E\n"
     ]
    }
   ],
   "source": [
    "# foreach 스타일에서 인덱스를 같이 쓰고 싶은 경우\n",
    "item_list = ['A' ,'B', 'C', 'D', 'E']\n",
    "# enumerate -> item 과 index를 같이 꺼내주는 함수\n",
    "for index, item in enumerate (item_list) :  \n",
    " \n",
    " print(index+1, \"번째\", item)"
   ]
  },
  {
   "cell_type": "code",
   "execution_count": 42,
   "metadata": {},
   "outputs": [
    {
     "name": "stdout",
     "output_type": "stream",
     "text": [
      "1번 학생은 합격입니다.\n",
      "2번 학생은 불합격입니다.\n",
      "3번 학생은 합격입니다.\n",
      "4번 학생은 합격입니다.\n",
      "5번 학생은 불합격입니다.\n"
     ]
    }
   ],
   "source": [
    "score_list = [90,45,70,60,55] # 60 점 이상 합격\n",
    "cnt = 1\n",
    "\n",
    "for i in score_list :\n",
    "    if i>=60 : \n",
    "        print(str(cnt)+\"번 학생은 합격입니다.\")\n",
    "    else :\n",
    "        print(str(cnt)+\"번 학생은 불합격입니다.\")\n",
    "    cnt += 1\n"
   ]
  },
  {
   "cell_type": "code",
   "execution_count": 44,
   "metadata": {},
   "outputs": [
    {
     "name": "stdout",
     "output_type": "stream",
     "text": [
      "1번 학생은 합격입니다.\n",
      "2번 학생은 불합격입니다.\n",
      "3번 학생은 합격입니다.\n",
      "4번 학생은 합격입니다.\n",
      "5번 학생은 불합격입니다.\n"
     ]
    }
   ],
   "source": [
    "score_list = [90,45,70,60,55] # 60 점 이상 합격\n",
    "\n",
    "for s,i in enumerate (score_list) :\n",
    "    if i>=60 :\n",
    "        print(f\"{s+1}번 학생은 합격입니다.\")\n",
    "    else :\n",
    "        print(f\"{s+1}번 학생은 불합격입니다.\")"
   ]
  },
  {
   "cell_type": "code",
   "execution_count": 49,
   "metadata": {},
   "outputs": [
    {
     "name": "stdout",
     "output_type": "stream",
     "text": [
      "1번 학생은 합격입니다.\n",
      "2번 학생은 불합격입니다.\n",
      "3번 학생은 합격입니다.\n",
      "4번 학생은 합격입니다.\n",
      "5번 학생은 불합격입니다.\n"
     ]
    }
   ],
   "source": [
    "score_list = [90,45,70,60,55] # 60 점 이상 합격\n",
    "\n",
    "for s,i in enumerate (score_list) :\n",
    "    rs = \"합격\" if i >= 60 else \"불합격\"\n",
    "    print(f\"{s+1}번 학생은 {rs}입니다.\")"
   ]
  },
  {
   "cell_type": "code",
   "execution_count": 50,
   "metadata": {},
   "outputs": [
    {
     "name": "stdout",
     "output_type": "stream",
     "text": [
      "Index 0: apple, 1000 won\n",
      "Index 1: banana, 2000 won\n",
      "Index 2: cherry, 3000 won\n"
     ]
    }
   ],
   "source": [
    "fruits = ['apple', 'banana', 'cherry']\n",
    "prices = [1000, 2000, 3000]\n",
    "\n",
    "for index, (fruit, price) in enumerate(zip(fruits, prices)):\n",
    "    print(f\"Index {index}: {fruit}, {price} won\")"
   ]
  },
  {
   "cell_type": "code",
   "execution_count": 51,
   "metadata": {},
   "outputs": [
    {
     "name": "stdout",
     "output_type": "stream",
     "text": [
      "1683\n"
     ]
    }
   ],
   "source": [
    "# 1부터 100 까지 숫자 중 3의 배수인 값들의 합\n",
    "count = 0\n",
    "for i in range(3,100,3) :\n",
    "    count += i\n",
    "print(count)"
   ]
  },
  {
   "cell_type": "code",
   "execution_count": 54,
   "metadata": {},
   "outputs": [
    {
     "name": "stdout",
     "output_type": "stream",
     "text": [
      "1683\n"
     ]
    }
   ],
   "source": [
    "count = 0\n",
    "for i in range(1,100,1) :\n",
    "    if i % 3 == 0 :\n",
    "        count += i\n",
    "print(count)"
   ]
  },
  {
   "cell_type": "code",
   "execution_count": 71,
   "metadata": {},
   "outputs": [
    {
     "name": "stdout",
     "output_type": "stream",
     "text": [
      "1\n"
     ]
    }
   ],
   "source": [
    "# 가장 작은 수 찾기\n",
    "temp = 0\n",
    "list2 = [4,5,2,1,99,15,2,7,27]\n",
    "small = list2[0]  # 가장 작은 수가 담길 변수\n",
    "\n",
    "for n, i in enumerate (list2) :\n",
    "    if list2[n] < small : # 리스트의 값이 small 변수보다 작은 경우\n",
    "        small = i \n",
    "print(small)\n",
    "\n"
   ]
  },
  {
   "cell_type": "code",
   "execution_count": 66,
   "metadata": {},
   "outputs": [
    {
     "name": "stdout",
     "output_type": "stream",
     "text": [
      "정렬된 리스트: [1, 2, 2, 4, 5, 7, 15, 27, 99]\n",
      "가장 작은 값: 1\n"
     ]
    }
   ],
   "source": [
    "# 버블 정렬\n",
    "list2 = [4, 5, 2, 1, 99, 15, 2, 7, 27]\n",
    "\n",
    "for i in range(len(list2)):\n",
    "    for j in range(0, len(list2)-i-1):\n",
    "        if list2[j] > list2[j+1]:\n",
    "            # 인접한 원소가 크기 순서에 맞지 않으면 교환\n",
    "            list2[j], list2[j+1] = list2[j+1], list2[j]\n",
    "\n",
    "print(\"정렬된 리스트:\", list2)\n",
    "print(\"가장 작은 값:\", list2[0])"
   ]
  },
  {
   "cell_type": "code",
   "execution_count": 69,
   "metadata": {},
   "outputs": [
    {
     "name": "stdout",
     "output_type": "stream",
     "text": [
      "0\n",
      "1\n",
      "2\n",
      "3\n",
      "4\n",
      "5\n",
      "6\n",
      "7\n",
      "8\n"
     ]
    }
   ],
   "source": [
    "for i in range(len(list2)):\n",
    "    print(i)"
   ]
  },
  {
   "cell_type": "code",
   "execution_count": 70,
   "metadata": {},
   "outputs": [
    {
     "name": "stdout",
     "output_type": "stream",
     "text": [
      "정렬된 리스트: [1, 2, 2, 4, 5, 7, 15, 27, 99]\n",
      "가장 작은 값: 1\n"
     ]
    }
   ],
   "source": [
    "list2 = [4, 5, 2, 1, 99, 15, 2, 7, 27]\n",
    "\n",
    "for i in range(len(list2)):\n",
    "    min_index = i\n",
    "\n",
    "    # 현재 위치부터 끝까지 최솟값을 찾음\n",
    "    for j in range(i+1, len(list2)):\n",
    "        if list2[j] < list2[min_index]:\n",
    "            min_index = j\n",
    "\n",
    "    # 최솟값을 현재 위치와 교체\n",
    "    list2[i], list2[min_index] = list2[min_index], list2[i]\n",
    "\n",
    "print(\"정렬된 리스트:\", list2)\n",
    "print(\"가장 작은 값:\", list2[0])\n",
    "\n"
   ]
  },
  {
   "cell_type": "code",
   "execution_count": 72,
   "metadata": {},
   "outputs": [
    {
     "name": "stdout",
     "output_type": "stream",
     "text": [
      "* \n",
      "* * \n",
      "* * * \n",
      "* * * * \n",
      "* * * * * \n"
     ]
    }
   ],
   "source": [
    "# 1개부터 5개까지의 별 찍기\n",
    "for i in range(1, 6):\n",
    "    stars = \"* \" * i\n",
    "    print(stars)\n"
   ]
  },
  {
   "cell_type": "code",
   "execution_count": 73,
   "metadata": {},
   "outputs": [
    {
     "name": "stdout",
     "output_type": "stream",
     "text": [
      "* * * * * \n",
      "* * * * \n",
      "* * * \n",
      "* * \n",
      "* \n"
     ]
    }
   ],
   "source": [
    "# 5개부터 1개까지의 별 찍기\n",
    "for i in range(5, 0, -1):\n",
    "    stars = \"* \" * i\n",
    "    print(stars)\n"
   ]
  },
  {
   "cell_type": "markdown",
   "metadata": {},
   "source": [
    "#### 3. 영화리뷰 데이터 핸들링 실습\n",
    "- 확장자 : .pkl\n",
    "- pickle 파일 -> 파이썬의 모든 데이터 타입을 저장할 수 있는 포맷"
   ]
  },
  {
   "cell_type": "code",
   "execution_count": 101,
   "metadata": {},
   "outputs": [
    {
     "data": {
      "text/plain": [
       "['흠...포스터보고 초딩영화줄....오버연기조차 가볍지 않구나', 1]"
      ]
     },
     "execution_count": 101,
     "metadata": {},
     "output_type": "execute_result"
    }
   ],
   "source": [
    "# 데이터로딩\n",
    "import pickle\n",
    "\n",
    "with open (\"./data/movie_review.pkl\", \"rb\") as f :\n",
    "    movie_data = pickle.load(f)\n",
    "movie_data[1] "
   ]
  },
  {
   "cell_type": "code",
   "execution_count": 128,
   "metadata": {},
   "outputs": [
    {
     "data": {
      "text/plain": [
       "27"
      ]
     },
     "execution_count": 128,
     "metadata": {},
     "output_type": "execute_result"
    }
   ],
   "source": [
    "# 1. 전체 리뷰 개수 파악\n",
    "\n",
    "len(movie_data[4999][0])"
   ]
  },
  {
   "cell_type": "code",
   "execution_count": 125,
   "metadata": {},
   "outputs": [
    {
     "name": "stdout",
     "output_type": "stream",
     "text": [
      "35.4866\n"
     ]
    }
   ],
   "source": [
    "# 2. 5000개의 리뷰들의 평균 길이\n",
    "length = 0\n",
    "\n",
    "for n, i in enumerate (movie_data) :\n",
    "    a = len(movie_data[n][0]) \n",
    "    length += a  \n",
    "\n",
    "print(length / len(movie_data) )"
   ]
  },
  {
   "cell_type": "code",
   "execution_count": null,
   "metadata": {},
   "outputs": [],
   "source": []
  },
  {
   "cell_type": "code",
   "execution_count": null,
   "metadata": {},
   "outputs": [],
   "source": []
  }
 ],
 "metadata": {
  "kernelspec": {
   "display_name": "Python 3 (ipykernel)",
   "language": "python",
   "name": "python3"
  },
  "language_info": {
   "codemirror_mode": {
    "name": "ipython",
    "version": 3
   },
   "file_extension": ".py",
   "mimetype": "text/x-python",
   "name": "python",
   "nbconvert_exporter": "python",
   "pygments_lexer": "ipython3",
   "version": "3.11.5"
  }
 },
 "nbformat": 4,
 "nbformat_minor": 2
}
