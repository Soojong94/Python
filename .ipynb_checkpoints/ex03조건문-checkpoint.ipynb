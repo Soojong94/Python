{
 "cells": [
  {
   "cell_type": "markdown",
   "id": "8ee58caf",
   "metadata": {},
   "source": [
    "### 조건문\n",
    "- 상황에 따라 실행 흐름을 다르게 하는 문법\n",
    "- 키워드 : if, elif , else\n",
    "```python\n",
    "# 콜론 ':'과 들여쓰기 \"Tab, space bar *4 \" 가 매우 중요!\n",
    "if 조건식 : \n",
    "    코드블록(실행문장)\n",
    "    코드블록\n",
    "elif 조건식 : \n",
    "    코드블록\n",
    "    코드블록\n",
    "else :\n",
    "    코드블록\n",
    "    코드블록\n",
    "```"
   ]
  },
  {
   "cell_type": "code",
   "execution_count": 8,
   "id": "0005051b",
   "metadata": {},
   "outputs": [
    {
     "name": "stdout",
     "output_type": "stream",
     "text": [
      "갖고 있는 돈을 입력하세요 >> 54\n",
      "걸어간다\n"
     ]
    }
   ],
   "source": [
    "# 갖고 있는 돈을 검사해서, 10000원 이상인 경우 택시를 타고, 그렇지 않은 경우 걸어간다\n",
    "# 10000원 미만 5000원 이상인 경우 버스를 탄다\n",
    "\n",
    "money = int (input (\"갖고 있는 돈을 입력하세요 >> \"))\n",
    "if money >= 10000 :\n",
    "    print(\"택시를 탄다\")\n",
    "elif money>=5000 :\n",
    "    print(\"버스를 타고 간다\")\n",
    "else :\n",
    "    print(\"걸어간다\")"
   ]
  },
  {
   "cell_type": "code",
   "execution_count": 13,
   "id": "4ce63e1f",
   "metadata": {},
   "outputs": [
    {
     "name": "stdout",
     "output_type": "stream",
     "text": [
      "첫 번째 정수입력>> 3\n",
      "두 번째 정수입력>> 3\n",
      "두 수가 똑같습니다\n"
     ]
    }
   ],
   "source": [
    "num1 = int(input (\"첫 번째 정수입력>> \"))\n",
    "num2 = int(input (\"두 번째 정수입력>> \"))\n",
    "if num1 > num2 :\n",
    "    print(\"첫 번째 정수가 더 큽니다\")\n",
    "elif num1 < num2 :\n",
    "    print(\"두 번째 정수가 더 큽니다\")\n",
    "else :\n",
    "    print(\"두 수가 똑같습니다\")"
   ]
  },
  {
   "cell_type": "code",
   "execution_count": 19,
   "id": "0dfb0b5e",
   "metadata": {},
   "outputs": [
    {
     "name": "stdout",
     "output_type": "stream",
     "text": [
      "점수 입력 >> 55\n",
      "55 점은 F학점 입니다.💣\n"
     ]
    }
   ],
   "source": [
    "score = int(input(\"점수 입력 >> \"))\n",
    "if 100 >= score >= 90 :\n",
    "    print(score , \"점은 A학점 입니다.\")\n",
    "elif 90 > score >= 80 :\n",
    "    print(score , \"점은 B학점 입니다.\")\n",
    "elif 80 > score >= 70 :\n",
    "    print(score ,  \"점은 C학점 입니다.\")\n",
    "elif 70 > score >= 60 :\n",
    "    print(score , \"점은 D학점 입니다.\")\n",
    "else :\n",
    "    print(score , \"점은 F학점 입니다.💣\")"
   ]
  },
  {
   "cell_type": "code",
   "execution_count": null,
   "id": "90f04cb1",
   "metadata": {},
   "outputs": [],
   "source": []
  },
  {
   "cell_type": "code",
   "execution_count": null,
   "id": "6460e4a1",
   "metadata": {},
   "outputs": [],
   "source": []
  },
  {
   "cell_type": "code",
   "execution_count": null,
   "id": "12495a3e",
   "metadata": {},
   "outputs": [],
   "source": []
  },
  {
   "cell_type": "code",
   "execution_count": null,
   "id": "83e943f1",
   "metadata": {},
   "outputs": [],
   "source": []
  },
  {
   "cell_type": "code",
   "execution_count": null,
   "id": "db29bd8c",
   "metadata": {},
   "outputs": [],
   "source": []
  }
 ],
 "metadata": {
  "kernelspec": {
   "display_name": "Python 3 (ipykernel)",
   "language": "python",
   "name": "python3"
  },
  "language_info": {
   "codemirror_mode": {
    "name": "ipython",
    "version": 3
   },
   "file_extension": ".py",
   "mimetype": "text/x-python",
   "name": "python",
   "nbconvert_exporter": "python",
   "pygments_lexer": "ipython3",
   "version": "3.11.5"
  }
 },
 "nbformat": 4,
 "nbformat_minor": 5
}
