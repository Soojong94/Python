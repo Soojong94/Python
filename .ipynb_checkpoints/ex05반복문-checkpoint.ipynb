{
 "cells": [
  {
   "cell_type": "markdown",
   "metadata": {},
   "source": [
    "### 반복문(while문, for문)\n",
    "- 프로그램 내에서 똑같은 명령을 일정 횟수만큼 반복하여 수행하도록 제어하는 명령문"
   ]
  },
  {
   "cell_type": "markdown",
   "metadata": {},
   "source": [
    "#### 1. while 문\n",
    "- 반복 횟수가 명확하지 않을 때\n",
    "```python\n",
    "\n",
    "while 조건식 :\n",
    "    코드블록\n",
    "    코드블록\n",
    "```"
   ]
  },
  {
   "cell_type": "code",
   "execution_count": 3,
   "metadata": {},
   "outputs": [
    {
     "name": "stdout",
     "output_type": "stream",
     "text": [
      "파이썬 최고!!\n",
      "파이썬 최고!!\n",
      "파이썬 최고!!\n",
      "파이썬 최고!!\n",
      "파이썬 최고!!\n",
      "파이썬 최고!!\n",
      "파이썬 최고!!\n",
      "파이썬 최고!!\n",
      "파이썬 최고!!\n",
      "파이썬 최고!!\n",
      "파이썬 최고!!\n",
      "파이썬 최고!!\n",
      "파이썬 최고!!\n"
     ]
    }
   ],
   "source": [
    "# while 문을 활용해서 \"파이썬 최고!!\" 를 13번 출력\n",
    "i = 1\n",
    "while i <=13 :\n",
    "    print(\"파이썬 최고!!\")\n",
    "    i += 1"
   ]
  },
  {
   "cell_type": "code",
   "execution_count": 1,
   "metadata": {},
   "outputs": [
    {
     "name": "stdout",
     "output_type": "stream",
     "text": [
      "1\n",
      "2\n",
      "3\n"
     ]
    }
   ],
   "source": [
    "number=1\n",
    "while number <=3 :\n",
    "    print(number)\n",
    "    number += 1"
   ]
  },
  {
   "cell_type": "code",
   "execution_count": 4,
   "metadata": {},
   "outputs": [
    {
     "name": "stdout",
     "output_type": "stream",
     "text": [
      "무한루프!\n"
     ]
    }
   ],
   "source": [
    "# break - 반복문을 나가는 기능!\n",
    "while True :\n",
    "    print(\"무한루프!\")\n",
    "    break"
   ]
  },
  {
   "cell_type": "code",
   "execution_count": 29,
   "metadata": {},
   "outputs": [
    {
     "name": "stdout",
     "output_type": "stream",
     "text": [
      "파이썬 최고!!\t\n",
      "파이썬 최고!!\t\n",
      "파이썬 최고!!\t\n",
      "파이썬 최고!!\t\n",
      "파이썬 최고!!\t\n",
      "파이썬 최고!!\t\n",
      "파이썬 최고!!\t\n",
      "파이썬 최고!!\t\n",
      "파이썬 최고!!\t\n",
      "파이썬 최고!!\t\n",
      "파이썬 최고!!\t\n",
      "파이썬 최고!!\t\n",
      "파이썬 최고!!\t\n",
      "파이썬 최고!!\t\n",
      "파이썬 최고!!\t\n",
      "파이썬 최고!!\t\n",
      "파이썬 최고!!\t\n",
      "파이썬 최고!!\t\n",
      "파이썬 최고!!\t\n",
      "파이썬 최고!!\t\n",
      "파이썬 최고!!\t\n",
      "파이썬 최고!!\t\n",
      "파이썬 최고!!\t\n",
      "파이썬 최고!!\t\n",
      "파이썬 최고!!\t\n",
      "파이썬 최고!!\t\n",
      "파이썬 최고!!\t\n",
      "파이썬 최고!!\t\n",
      "파이썬 최고!!\t\n",
      "파이썬 최고!!\t\n",
      "파이썬 최고!!\t\n",
      "파이썬 최고!!\t\n",
      "파이썬 최고!!\t\n",
      "파이썬 최고!!\t\n",
      "파이썬 최고!!\t\n",
      "파이썬 최고!!\t\n",
      "파이썬 최고!!\t\n",
      "파이썬 최고!!\t\n",
      "파이썬 최고!!\t\n",
      "파이썬 최고!!\t\n",
      "파이썬 최고!!\t\n",
      "파이썬 최고!!\t\n",
      "파이썬 최고!!\t\n",
      "파이썬 최고!!\t\n",
      "파이썬 최고!!\t\n",
      "파이썬 최고!!\t\n",
      "파이썬 최고!!\t\n",
      "파이썬 최고!!\t\n",
      "파이썬 최고!!\t\n",
      "파이썬 최고!!\t\n",
      "파이썬 최고!!\t\n",
      "파이썬 최고!!\t\n",
      "파이썬 최고!!\t\n",
      "파이썬 최고!!\t\n",
      "파이썬 최고!!\t\n",
      "파이썬 최고!!\t\n",
      "파이썬 최고!!\t\n",
      "파이썬 최고!!\t\n",
      "파이썬 최고!!\t\n",
      "파이썬 최고!!\t\n",
      "파이썬 최고!!\t\n",
      "파이썬 최고!!\t\n",
      "파이썬 최고!!\t\n",
      "파이썬 최고!!\t\n",
      "파이썬 최고!!\t\n",
      "파이썬 최고!!\t\n",
      "파이썬 최고!!\t\n",
      "파이썬 최고!!\t\n",
      "파이썬 최고!!\t\n",
      "파이썬 최고!!\t\n",
      "파이썬 최고!!\t\n",
      "파이썬 최고!!\t\n",
      "파이썬 최고!!\t\n",
      "파이썬 최고!!\t\n",
      "파이썬 최고!!\t\n",
      "파이썬 최고!!\t\n",
      "파이썬 최고!!\t\n",
      "파이썬 최고!!\t\n",
      "파이썬 최고!!\t\n",
      "파이썬 최고!!\t\n",
      "파이썬 최고!!\t\n",
      "파이썬 최고!!\t\n",
      "파이썬 최고!!\t\n",
      "파이썬 최고!!\t\n",
      "파이썬 최고!!\t\n",
      "파이썬 최고!!\t\n",
      "파이썬 최고!!\t\n",
      "파이썬 최고!!\t\n",
      "파이썬 최고!!\t\n",
      "파이썬 최고!!\t\n",
      "파이썬 최고!!\t\n",
      "파이썬 최고!!\t\n",
      "파이썬 최고!!\t\n",
      "파이썬 최고!!\t\n",
      "파이썬 최고!!\t\n",
      "파이썬 최고!!\t\n",
      "파이썬 최고!!\t\n",
      "파이썬 최고!!\t\n",
      "파이썬 최고!!\t\n",
      "파이썬 최고!!\t\n"
     ]
    }
   ],
   "source": [
    "i = 1\n",
    "while True :\n",
    "    print(\"파이썬 최고!!\" , end=\"\\t\")\n",
    "    print()\n",
    "    i += 1\n",
    "    if i > 100 :\n",
    "        break"
   ]
  },
  {
   "cell_type": "code",
   "execution_count": 5,
   "metadata": {},
   "outputs": [
    {
     "name": "stdout",
     "output_type": "stream",
     "text": [
      "첫 번째 정수 입력>> 5\n",
      "두 번째 정수 입력>> 6\n",
      "두 정수의 합 : 11\n",
      "첫 번째 정수 입력>> 1\n",
      "두 번째 정수 입력>> 2\n",
      "두 정수의 합 : 3\n",
      "첫 번째 정수 입력>> 3\n",
      "두 번째 정수 입력>> 3\n",
      "두 정수의 합 : 6\n",
      "첫 번째 정수 입력>> 4\n",
      "두 번째 정수 입력>> 5\n",
      "두 정수의 합 : 9\n",
      "첫 번째 정수 입력>> 7\n",
      "두 번째 정수 입력>> 5\n",
      "두 정수의 합 : 12\n",
      "첫 번째 정수 입력>> 6\n",
      "두 번째 정수 입력>> 4\n",
      "두 정수의 합 : 10\n",
      "첫 번째 정수 입력>> 10\n",
      "두 번째 정수 입력>> 0\n",
      "두 정수의 합 : 10\n",
      "첫 번째 정수 입력>> 0\n",
      "두 번째 정수 입력>> 0\n",
      "프로그램 종료\n"
     ]
    }
   ],
   "source": [
    "# 두개의 정수를 입력 받아서 더하는 코드를 작성\n",
    "# 단 0,과 0을 입력했을 때 프로그램 종료 출력\n",
    "\n",
    "\n",
    "while True :\n",
    "    num1 = int(input (\"첫 번째 정수 입력>> \"))\n",
    "    num2 = int(input (\"두 번째 정수 입력>> \"))\n",
    "    if num1 == 0 and num2 ==0 :\n",
    "        print(\"프로그램 종료\")\n",
    "        break\n",
    "    else :\n",
    "        print(f\"두 정수의 합 : {num1+num2}\")\n",
    "        \n",
    "        \n",
    "        "
   ]
  },
  {
   "cell_type": "code",
   "execution_count": null,
   "metadata": {},
   "outputs": [],
   "source": []
  }
 ],
 "metadata": {
  "kernelspec": {
   "display_name": "Python 3 (ipykernel)",
   "language": "python",
   "name": "python3"
  },
  "language_info": {
   "codemirror_mode": {
    "name": "ipython",
    "version": 3
   },
   "file_extension": ".py",
   "mimetype": "text/x-python",
   "name": "python",
   "nbconvert_exporter": "python",
   "pygments_lexer": "ipython3",
   "version": "3.11.5"
  }
 },
 "nbformat": 4,
 "nbformat_minor": 2
}
